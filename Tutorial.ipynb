{
 "cells": [
  {
   "attachments": {},
   "cell_type": "markdown",
   "metadata": {},
   "source": [
    "# Tutorial: Spatiotemporal prediction/analysis in Python using GPyTorch (Gaussian Processes)\n",
    "\n",
    "This notebook covers a simple example of using GPyTorch to perform spatiotemporal prediction. We will use two example datasets: One is a list of Airbnb listings in Austin, TX\n",
    "\n",
    "We will use the Airbnb dataset to predict the price of a listing given a set of predictors. "
   ]
  },
  {
   "cell_type": "code",
   "execution_count": 1,
   "metadata": {},
   "outputs": [
    {
     "name": "stderr",
     "output_type": "stream",
     "text": [
      "C:\\Users\\ekino\\AppData\\Local\\Temp\\ipykernel_26676\\357393232.py:3: UserWarning: Shapely 2.0 is installed, but because PyGEOS is also installed, GeoPandas will still use PyGEOS by default for now. To force to use and test Shapely 2.0, you have to set the environment variable USE_PYGEOS=0. You can do this before starting the Python process, or in your code before importing geopandas:\n",
      "\n",
      "import os\n",
      "os.environ['USE_PYGEOS'] = '0'\n",
      "import geopandas\n",
      "\n",
      "In a future release, GeoPandas will switch to using Shapely by default. If you are using PyGEOS directly (calling PyGEOS functions on geometries from GeoPandas), this will then stop working and you are encouraged to migrate from PyGEOS to Shapely 2.0 (https://shapely.readthedocs.io/en/latest/migration_pygeos.html).\n",
      "  import geopandas as gpd\n"
     ]
    }
   ],
   "source": [
    "import pandas as pd\n",
    "import numpy as np\n",
    "import geopandas as gpd\n",
    "import seaborn as sns\n",
    "import osmnx as ox\n",
    "import matplotlib.pyplot as plt\n",
    "from scipy import stats\n",
    "import torch\n",
    "import gpytorch\n",
    "from pysal.model import spreg\n",
    "from pysal.lib import weights\n",
    "from utils import GP"
   ]
  },
  {
   "cell_type": "code",
   "execution_count": 2,
   "metadata": {},
   "outputs": [
    {
     "data": {
      "text/plain": [
       "False"
      ]
     },
     "execution_count": 2,
     "metadata": {},
     "output_type": "execute_result"
    }
   ],
   "source": [
    "torch.cuda.is_available()"
   ]
  },
  {
   "attachments": {},
   "cell_type": "markdown",
   "metadata": {},
   "source": [
    "Let's read the Airbnb data and OSM data for Austin, TX."
   ]
  },
  {
   "cell_type": "code",
   "execution_count": 3,
   "metadata": {},
   "outputs": [
    {
     "data": {
      "text/plain": [
       "Index(['id', 'listing_url', 'scrape_id', 'last_scraped', 'name', 'summary',\n",
       "       'space', 'description', 'experiences_offered', 'neighborhood_overview',\n",
       "       'notes', 'transit', 'thumbnail_url', 'medium_url', 'picture_url',\n",
       "       'xl_picture_url', 'host_id', 'host_url', 'host_name', 'host_since',\n",
       "       'host_location', 'host_about', 'host_response_time',\n",
       "       'host_response_rate', 'host_acceptance_rate', 'host_is_superhost',\n",
       "       'host_thumbnail_url', 'host_picture_url', 'host_neighbourhood',\n",
       "       'host_listings_count', 'host_total_listings_count',\n",
       "       'host_verifications', 'host_has_profile_pic', 'host_identity_verified',\n",
       "       'street', 'neighbourhood', 'neighbourhood_cleansed',\n",
       "       'neighbourhood_group_cleansed', 'city', 'state', 'zipcode', 'market',\n",
       "       'smart_location', 'country_code', 'country', 'latitude', 'longitude',\n",
       "       'is_location_exact', 'property_type', 'room_type', 'accommodates',\n",
       "       'bathrooms', 'bedrooms', 'beds', 'bed_type', 'amenities', 'square_feet',\n",
       "       'price', 'weekly_price', 'monthly_price', 'security_deposit',\n",
       "       'cleaning_fee', 'guests_included', 'extra_people', 'minimum_nights',\n",
       "       'maximum_nights', 'calendar_updated', 'has_availability',\n",
       "       'availability_30', 'availability_60', 'availability_90',\n",
       "       'availability_365', 'calendar_last_scraped', 'number_of_reviews',\n",
       "       'first_review', 'last_review', 'review_scores_rating',\n",
       "       'review_scores_accuracy', 'review_scores_cleanliness',\n",
       "       'review_scores_checkin', 'review_scores_communication',\n",
       "       'review_scores_location', 'review_scores_value', 'requires_license',\n",
       "       'license', 'jurisdiction_names', 'instant_bookable',\n",
       "       'cancellation_policy', 'require_guest_profile_picture',\n",
       "       'require_guest_phone_verification', 'calculated_host_listings_count',\n",
       "       'reviews_per_month'],\n",
       "      dtype='object')"
      ]
     },
     "execution_count": 3,
     "metadata": {},
     "output_type": "execute_result"
    }
   ],
   "source": [
    "# Read listings\n",
    "fp = \"data/listings.csv\"\n",
    "df = pd.read_csv(fp)\n",
    "df.columns"
   ]
  },
  {
   "cell_type": "code",
   "execution_count": 4,
   "metadata": {},
   "outputs": [
    {
     "data": {
      "text/html": [
       "<div>\n",
       "<style scoped>\n",
       "    .dataframe tbody tr th:only-of-type {\n",
       "        vertical-align: middle;\n",
       "    }\n",
       "\n",
       "    .dataframe tbody tr th {\n",
       "        vertical-align: top;\n",
       "    }\n",
       "\n",
       "    .dataframe thead th {\n",
       "        text-align: right;\n",
       "    }\n",
       "</style>\n",
       "<table border=\"1\" class=\"dataframe\">\n",
       "  <thead>\n",
       "    <tr style=\"text-align: right;\">\n",
       "      <th></th>\n",
       "      <th>id</th>\n",
       "      <th>listing_url</th>\n",
       "      <th>scrape_id</th>\n",
       "      <th>last_scraped</th>\n",
       "      <th>name</th>\n",
       "      <th>summary</th>\n",
       "      <th>space</th>\n",
       "      <th>description</th>\n",
       "      <th>experiences_offered</th>\n",
       "      <th>neighborhood_overview</th>\n",
       "      <th>...</th>\n",
       "      <th>review_scores_value</th>\n",
       "      <th>requires_license</th>\n",
       "      <th>license</th>\n",
       "      <th>jurisdiction_names</th>\n",
       "      <th>instant_bookable</th>\n",
       "      <th>cancellation_policy</th>\n",
       "      <th>require_guest_profile_picture</th>\n",
       "      <th>require_guest_phone_verification</th>\n",
       "      <th>calculated_host_listings_count</th>\n",
       "      <th>reviews_per_month</th>\n",
       "    </tr>\n",
       "  </thead>\n",
       "  <tbody>\n",
       "    <tr>\n",
       "      <th>0</th>\n",
       "      <td>72635</td>\n",
       "      <td>https://www.airbnb.com/rooms/72635</td>\n",
       "      <td>20151107173015</td>\n",
       "      <td>2015-11-08</td>\n",
       "      <td>3 Private Bedrooms, SW Austin</td>\n",
       "      <td>Conveniently located 10-15 from downtown in SW...</td>\n",
       "      <td>We have three spare bedrooms, each with a quee...</td>\n",
       "      <td>Conveniently located 10-15 from downtown in SW...</td>\n",
       "      <td>none</td>\n",
       "      <td>Location and convenience are key.  Easy access...</td>\n",
       "      <td>...</td>\n",
       "      <td>10.0</td>\n",
       "      <td>f</td>\n",
       "      <td>NaN</td>\n",
       "      <td>NaN</td>\n",
       "      <td>f</td>\n",
       "      <td>moderate</td>\n",
       "      <td>f</td>\n",
       "      <td>f</td>\n",
       "      <td>1</td>\n",
       "      <td>0.02</td>\n",
       "    </tr>\n",
       "    <tr>\n",
       "      <th>1</th>\n",
       "      <td>5386323</td>\n",
       "      <td>https://www.airbnb.com/rooms/5386323</td>\n",
       "      <td>20151107173015</td>\n",
       "      <td>2015-11-07</td>\n",
       "      <td>Cricket Trailer</td>\n",
       "      <td>Rent this cool concept trailer that has everyt...</td>\n",
       "      <td>Rental arrangements for this trailer allows yo...</td>\n",
       "      <td>Rent this cool concept trailer that has everyt...</td>\n",
       "      <td>none</td>\n",
       "      <td>We're talking about wherever you'd like in the...</td>\n",
       "      <td>...</td>\n",
       "      <td>NaN</td>\n",
       "      <td>f</td>\n",
       "      <td>NaN</td>\n",
       "      <td>NaN</td>\n",
       "      <td>f</td>\n",
       "      <td>moderate</td>\n",
       "      <td>f</td>\n",
       "      <td>f</td>\n",
       "      <td>1</td>\n",
       "      <td>NaN</td>\n",
       "    </tr>\n",
       "  </tbody>\n",
       "</table>\n",
       "<p>2 rows × 92 columns</p>\n",
       "</div>"
      ],
      "text/plain": [
       "        id                           listing_url       scrape_id last_scraped  \\\n",
       "0    72635    https://www.airbnb.com/rooms/72635  20151107173015   2015-11-08   \n",
       "1  5386323  https://www.airbnb.com/rooms/5386323  20151107173015   2015-11-07   \n",
       "\n",
       "                            name  \\\n",
       "0  3 Private Bedrooms, SW Austin   \n",
       "1                Cricket Trailer   \n",
       "\n",
       "                                             summary  \\\n",
       "0  Conveniently located 10-15 from downtown in SW...   \n",
       "1  Rent this cool concept trailer that has everyt...   \n",
       "\n",
       "                                               space  \\\n",
       "0  We have three spare bedrooms, each with a quee...   \n",
       "1  Rental arrangements for this trailer allows yo...   \n",
       "\n",
       "                                         description experiences_offered  \\\n",
       "0  Conveniently located 10-15 from downtown in SW...                none   \n",
       "1  Rent this cool concept trailer that has everyt...                none   \n",
       "\n",
       "                               neighborhood_overview  ... review_scores_value  \\\n",
       "0  Location and convenience are key.  Easy access...  ...                10.0   \n",
       "1  We're talking about wherever you'd like in the...  ...                 NaN   \n",
       "\n",
       "  requires_license license jurisdiction_names instant_bookable  \\\n",
       "0                f     NaN                NaN                f   \n",
       "1                f     NaN                NaN                f   \n",
       "\n",
       "  cancellation_policy  require_guest_profile_picture  \\\n",
       "0            moderate                              f   \n",
       "1            moderate                              f   \n",
       "\n",
       "  require_guest_phone_verification calculated_host_listings_count  \\\n",
       "0                                f                              1   \n",
       "1                                f                              1   \n",
       "\n",
       "  reviews_per_month  \n",
       "0              0.02  \n",
       "1               NaN  \n",
       "\n",
       "[2 rows x 92 columns]"
      ]
     },
     "execution_count": 4,
     "metadata": {},
     "output_type": "execute_result"
    }
   ],
   "source": [
    "df.head(2)"
   ]
  },
  {
   "cell_type": "code",
   "execution_count": 5,
   "metadata": {},
   "outputs": [],
   "source": [
    "# Define the place query\n",
    "place = {'city': 'Austin'}\n",
    "\n",
    "# Get the place polygon\n",
    "boundaries = ox.geocode_to_gdf(place, buffer_dist=5000)\n",
    "\n",
    "# Can see this on the map using the following command\n",
    "#boundaries.explore()"
   ]
  },
  {
   "attachments": {},
   "cell_type": "markdown",
   "metadata": {},
   "source": [
    "Let’s convert the Airbnb data into GeoDataFrame based on the longitude and latitude columns and filter the data\n",
    "geographically based on Austin boundaries:"
   ]
  },
  {
   "cell_type": "code",
   "execution_count": 6,
   "metadata": {},
   "outputs": [
    {
     "data": {
      "text/html": [
       "<div>\n",
       "<style scoped>\n",
       "    .dataframe tbody tr th:only-of-type {\n",
       "        vertical-align: middle;\n",
       "    }\n",
       "\n",
       "    .dataframe tbody tr th {\n",
       "        vertical-align: top;\n",
       "    }\n",
       "\n",
       "    .dataframe thead th {\n",
       "        text-align: right;\n",
       "    }\n",
       "</style>\n",
       "<table border=\"1\" class=\"dataframe\">\n",
       "  <thead>\n",
       "    <tr style=\"text-align: right;\">\n",
       "      <th></th>\n",
       "      <th>id</th>\n",
       "      <th>listing_url</th>\n",
       "      <th>scrape_id</th>\n",
       "      <th>last_scraped</th>\n",
       "      <th>name</th>\n",
       "      <th>summary</th>\n",
       "      <th>space</th>\n",
       "      <th>description</th>\n",
       "      <th>experiences_offered</th>\n",
       "      <th>neighborhood_overview</th>\n",
       "      <th>...</th>\n",
       "      <th>license</th>\n",
       "      <th>jurisdiction_names</th>\n",
       "      <th>instant_bookable</th>\n",
       "      <th>cancellation_policy</th>\n",
       "      <th>require_guest_profile_picture</th>\n",
       "      <th>require_guest_phone_verification</th>\n",
       "      <th>calculated_host_listings_count</th>\n",
       "      <th>reviews_per_month</th>\n",
       "      <th>geometry</th>\n",
       "      <th>index_right</th>\n",
       "    </tr>\n",
       "  </thead>\n",
       "  <tbody>\n",
       "    <tr>\n",
       "      <th>0</th>\n",
       "      <td>72635</td>\n",
       "      <td>https://www.airbnb.com/rooms/72635</td>\n",
       "      <td>20151107173015</td>\n",
       "      <td>2015-11-08</td>\n",
       "      <td>3 Private Bedrooms, SW Austin</td>\n",
       "      <td>Conveniently located 10-15 from downtown in SW...</td>\n",
       "      <td>We have three spare bedrooms, each with a quee...</td>\n",
       "      <td>Conveniently located 10-15 from downtown in SW...</td>\n",
       "      <td>none</td>\n",
       "      <td>Location and convenience are key.  Easy access...</td>\n",
       "      <td>...</td>\n",
       "      <td>NaN</td>\n",
       "      <td>NaN</td>\n",
       "      <td>f</td>\n",
       "      <td>moderate</td>\n",
       "      <td>f</td>\n",
       "      <td>f</td>\n",
       "      <td>1</td>\n",
       "      <td>0.02</td>\n",
       "      <td>POINT (-97.88431 30.20282)</td>\n",
       "      <td>0</td>\n",
       "    </tr>\n",
       "    <tr>\n",
       "      <th>1</th>\n",
       "      <td>5386323</td>\n",
       "      <td>https://www.airbnb.com/rooms/5386323</td>\n",
       "      <td>20151107173015</td>\n",
       "      <td>2015-11-07</td>\n",
       "      <td>Cricket Trailer</td>\n",
       "      <td>Rent this cool concept trailer that has everyt...</td>\n",
       "      <td>Rental arrangements for this trailer allows yo...</td>\n",
       "      <td>Rent this cool concept trailer that has everyt...</td>\n",
       "      <td>none</td>\n",
       "      <td>We're talking about wherever you'd like in the...</td>\n",
       "      <td>...</td>\n",
       "      <td>NaN</td>\n",
       "      <td>NaN</td>\n",
       "      <td>f</td>\n",
       "      <td>moderate</td>\n",
       "      <td>f</td>\n",
       "      <td>f</td>\n",
       "      <td>1</td>\n",
       "      <td>NaN</td>\n",
       "      <td>POINT (-97.90068 30.19941)</td>\n",
       "      <td>0</td>\n",
       "    </tr>\n",
       "    <tr>\n",
       "      <th>2</th>\n",
       "      <td>8826517</td>\n",
       "      <td>https://www.airbnb.com/rooms/8826517</td>\n",
       "      <td>20151107173015</td>\n",
       "      <td>2015-11-07</td>\n",
       "      <td>Private room 1 in South Austin</td>\n",
       "      <td>Upstairs, private, 12ft x 13 1/2ft room.  Priv...</td>\n",
       "      <td>NaN</td>\n",
       "      <td>Upstairs, private, 12ft x 13 1/2ft room.  Priv...</td>\n",
       "      <td>none</td>\n",
       "      <td>NaN</td>\n",
       "      <td>...</td>\n",
       "      <td>NaN</td>\n",
       "      <td>NaN</td>\n",
       "      <td>f</td>\n",
       "      <td>flexible</td>\n",
       "      <td>f</td>\n",
       "      <td>f</td>\n",
       "      <td>2</td>\n",
       "      <td>NaN</td>\n",
       "      <td>POINT (-97.86448 30.16850)</td>\n",
       "      <td>0</td>\n",
       "    </tr>\n",
       "    <tr>\n",
       "      <th>3</th>\n",
       "      <td>8828616</td>\n",
       "      <td>https://www.airbnb.com/rooms/8828616</td>\n",
       "      <td>20151107173015</td>\n",
       "      <td>2015-11-08</td>\n",
       "      <td>Private room 2 in South Austin</td>\n",
       "      <td>Upstairs, private, 11ft x 13 1/2ft room.  Priv...</td>\n",
       "      <td>NaN</td>\n",
       "      <td>Upstairs, private, 11ft x 13 1/2ft room.  Priv...</td>\n",
       "      <td>none</td>\n",
       "      <td>NaN</td>\n",
       "      <td>...</td>\n",
       "      <td>NaN</td>\n",
       "      <td>NaN</td>\n",
       "      <td>f</td>\n",
       "      <td>flexible</td>\n",
       "      <td>f</td>\n",
       "      <td>f</td>\n",
       "      <td>2</td>\n",
       "      <td>NaN</td>\n",
       "      <td>POINT (-97.86487 30.16862)</td>\n",
       "      <td>0</td>\n",
       "    </tr>\n",
       "    <tr>\n",
       "      <th>4</th>\n",
       "      <td>8536913</td>\n",
       "      <td>https://www.airbnb.com/rooms/8536913</td>\n",
       "      <td>20151107173015</td>\n",
       "      <td>2015-11-08</td>\n",
       "      <td>Brand-New 3BR Austin Home</td>\n",
       "      <td>Brand-new 3BR/2BA Austin home with landscaped ...</td>\n",
       "      <td>Feel instantly at home at our brand new 3BR/2B...</td>\n",
       "      <td>Brand-new 3BR/2BA Austin home with landscaped ...</td>\n",
       "      <td>none</td>\n",
       "      <td>Entertainment and activities are plentiful her...</td>\n",
       "      <td>...</td>\n",
       "      <td>NaN</td>\n",
       "      <td>NaN</td>\n",
       "      <td>f</td>\n",
       "      <td>strict</td>\n",
       "      <td>f</td>\n",
       "      <td>f</td>\n",
       "      <td>2</td>\n",
       "      <td>NaN</td>\n",
       "      <td>POINT (-97.88832 30.16943)</td>\n",
       "      <td>0</td>\n",
       "    </tr>\n",
       "  </tbody>\n",
       "</table>\n",
       "<p>5 rows × 94 columns</p>\n",
       "</div>"
      ],
      "text/plain": [
       "        id                           listing_url       scrape_id last_scraped  \\\n",
       "0    72635    https://www.airbnb.com/rooms/72635  20151107173015   2015-11-08   \n",
       "1  5386323  https://www.airbnb.com/rooms/5386323  20151107173015   2015-11-07   \n",
       "2  8826517  https://www.airbnb.com/rooms/8826517  20151107173015   2015-11-07   \n",
       "3  8828616  https://www.airbnb.com/rooms/8828616  20151107173015   2015-11-08   \n",
       "4  8536913  https://www.airbnb.com/rooms/8536913  20151107173015   2015-11-08   \n",
       "\n",
       "                             name  \\\n",
       "0   3 Private Bedrooms, SW Austin   \n",
       "1                 Cricket Trailer   \n",
       "2  Private room 1 in South Austin   \n",
       "3  Private room 2 in South Austin   \n",
       "4       Brand-New 3BR Austin Home   \n",
       "\n",
       "                                             summary  \\\n",
       "0  Conveniently located 10-15 from downtown in SW...   \n",
       "1  Rent this cool concept trailer that has everyt...   \n",
       "2  Upstairs, private, 12ft x 13 1/2ft room.  Priv...   \n",
       "3  Upstairs, private, 11ft x 13 1/2ft room.  Priv...   \n",
       "4  Brand-new 3BR/2BA Austin home with landscaped ...   \n",
       "\n",
       "                                               space  \\\n",
       "0  We have three spare bedrooms, each with a quee...   \n",
       "1  Rental arrangements for this trailer allows yo...   \n",
       "2                                                NaN   \n",
       "3                                                NaN   \n",
       "4  Feel instantly at home at our brand new 3BR/2B...   \n",
       "\n",
       "                                         description experiences_offered  \\\n",
       "0  Conveniently located 10-15 from downtown in SW...                none   \n",
       "1  Rent this cool concept trailer that has everyt...                none   \n",
       "2  Upstairs, private, 12ft x 13 1/2ft room.  Priv...                none   \n",
       "3  Upstairs, private, 11ft x 13 1/2ft room.  Priv...                none   \n",
       "4  Brand-new 3BR/2BA Austin home with landscaped ...                none   \n",
       "\n",
       "                               neighborhood_overview  ... license  \\\n",
       "0  Location and convenience are key.  Easy access...  ...     NaN   \n",
       "1  We're talking about wherever you'd like in the...  ...     NaN   \n",
       "2                                                NaN  ...     NaN   \n",
       "3                                                NaN  ...     NaN   \n",
       "4  Entertainment and activities are plentiful her...  ...     NaN   \n",
       "\n",
       "  jurisdiction_names instant_bookable cancellation_policy  \\\n",
       "0                NaN                f            moderate   \n",
       "1                NaN                f            moderate   \n",
       "2                NaN                f            flexible   \n",
       "3                NaN                f            flexible   \n",
       "4                NaN                f              strict   \n",
       "\n",
       "  require_guest_profile_picture require_guest_phone_verification  \\\n",
       "0                             f                                f   \n",
       "1                             f                                f   \n",
       "2                             f                                f   \n",
       "3                             f                                f   \n",
       "4                             f                                f   \n",
       "\n",
       "   calculated_host_listings_count reviews_per_month  \\\n",
       "0                               1              0.02   \n",
       "1                               1               NaN   \n",
       "2                               2               NaN   \n",
       "3                               2               NaN   \n",
       "4                               2               NaN   \n",
       "\n",
       "                     geometry index_right  \n",
       "0  POINT (-97.88431 30.20282)           0  \n",
       "1  POINT (-97.90068 30.19941)           0  \n",
       "2  POINT (-97.86448 30.16850)           0  \n",
       "3  POINT (-97.86487 30.16862)           0  \n",
       "4  POINT (-97.88832 30.16943)           0  \n",
       "\n",
       "[5 rows x 94 columns]"
      ]
     },
     "execution_count": 6,
     "metadata": {},
     "output_type": "execute_result"
    }
   ],
   "source": [
    "# Create a GeoDataFrame\n",
    "df[\"geometry\"] = gpd.points_from_xy(df[\"longitude\"], df[\"latitude\"])\n",
    "df = gpd.GeoDataFrame(df, crs=\"epsg:4326\")\n",
    "\n",
    "# Filter data geographically\n",
    "df = gpd.sjoin(df, boundaries[[\"geometry\"]])\n",
    "df = df.reset_index(drop=True)\n",
    "\n",
    "# Check the first rows\n",
    "df.head()"
   ]
  },
  {
   "attachments": {},
   "cell_type": "markdown",
   "metadata": {},
   "source": [
    "Let's take a look at the price column:"
   ]
  },
  {
   "cell_type": "code",
   "execution_count": 7,
   "metadata": {},
   "outputs": [
    {
     "data": {
      "text/plain": [
       "0    $300.00\n",
       "1     $99.00\n",
       "2    $100.00\n",
       "3    $100.00\n",
       "4    $599.00\n",
       "Name: price, dtype: object"
      ]
     },
     "execution_count": 7,
     "metadata": {},
     "output_type": "execute_result"
    }
   ],
   "source": [
    "df['price'].head()"
   ]
  },
  {
   "cell_type": "code",
   "execution_count": 8,
   "metadata": {},
   "outputs": [
    {
     "name": "stderr",
     "output_type": "stream",
     "text": [
      "C:\\Users\\ekino\\AppData\\Local\\Temp\\ipykernel_26676\\486199180.py:2: FutureWarning: The default value of regex will change from True to False in a future version. In addition, single character regular expressions will *not* be treated as literal strings when regex=True.\n",
      "  df['price'] = df['price'].str.replace('$', '').str.replace(',', '').astype(float)\n"
     ]
    }
   ],
   "source": [
    "# Remove the dollar sign, convert values to floats\n",
    "df['price'] = df['price'].str.replace('$', '').str.replace(',', '').astype(float)"
   ]
  },
  {
   "cell_type": "code",
   "execution_count": 9,
   "metadata": {},
   "outputs": [],
   "source": [
    "# Here the tooltip parameter specifies which attributes are shown when hovering on top of the points\n",
    "# The vmax parameter specifies the maximum value for the colormap (here, all 1000 dollars and above are combined)\n",
    "\n",
    "#df.explore(column=\"price\", cmap=\"Reds\", scheme=\"quantiles\", k=4, tooltip=[\"name\", \"price\"], vmax=1000,\n",
    "#tiles=\"CartoDB Positron\")"
   ]
  },
  {
   "attachments": {},
   "cell_type": "markdown",
   "metadata": {},
   "source": [
    "## Baseline Method: Linear Regression (nonspatial)\n",
    "\n",
    "Before introducing explicitly spatial methods, we will run a simple linear regression model. This will allow us, on the one hand,\n",
    "set the main principles of hedonic modeling and how to interpret the coefficients, which is good because the spatial models\n",
    "will build on this; and, on the other hand, it will provide a baseline model that we can use to evaluate how meaningful the\n",
    "spatial extensions are.\n",
    "\n",
    "The core of a linear regression is to explain a given variable--the price $P_i$ of a listing $i$ on AirBnb--as a linear function of a set of other characteristics $X_i$.\n",
    "\n",
    "$$ \\ln(P_i) = \\alpha + \\beta X_i + \\epsilon_i $$\n",
    "\n",
    "For several reasons, it is common to represent the price logarithmically. Furthermore, since this is a probabilistic model, we add an error term $\\epsilon_i$ that is assumed to be normally distributed (i.i.d.). \n",
    "\n",
    "Let's consider the following set of explanatory variables for each listing:"
   ]
  },
  {
   "cell_type": "code",
   "execution_count": 10,
   "metadata": {},
   "outputs": [],
   "source": [
    "explanatory_vars = ['host_listings_count', 'bathrooms', 'bedrooms', 'beds', 'guests_included', 'pool']"
   ]
  },
  {
   "attachments": {},
   "cell_type": "markdown",
   "metadata": {},
   "source": [
    "Additionally, we are going to derive a new feature of a listing from the amenities variable. Let us construct a variable that takes\n",
    "1 if the listed property has a pool and 0 otherwise:"
   ]
  },
  {
   "cell_type": "code",
   "execution_count": 11,
   "metadata": {},
   "outputs": [],
   "source": [
    "def has_pool(a):\n",
    "    if 'Pool' in a:\n",
    "        return 1\n",
    "    else:\n",
    "        return 0\n",
    " \n",
    "df['pool'] = df['amenities'].apply(has_pool)"
   ]
  },
  {
   "attachments": {},
   "cell_type": "markdown",
   "metadata": {},
   "source": [
    "Let’s then calculate the logarithmic value of the price:"
   ]
  },
  {
   "cell_type": "code",
   "execution_count": 12,
   "metadata": {},
   "outputs": [],
   "source": [
    "df[\"log_price\"] = np.log(df[\"price\"] + 0.000001)"
   ]
  },
  {
   "attachments": {},
   "cell_type": "markdown",
   "metadata": {},
   "source": [
    "Let's check for missing values in either our dependent or predictor variables:"
   ]
  },
  {
   "cell_type": "code",
   "execution_count": 13,
   "metadata": {},
   "outputs": [
    {
     "name": "stdout",
     "output_type": "stream",
     "text": [
      "Has missing values: True\n"
     ]
    }
   ],
   "source": [
    "all_model_attributes = [\"price\"] + explanatory_vars\n",
    "has_nans = False\n",
    "for attr in all_model_attributes:\n",
    "    if df[attr].hasnans:\n",
    "        has_nans = True\n",
    "print(\"Has missing values:\", has_nans)"
   ]
  },
  {
   "attachments": {},
   "cell_type": "markdown",
   "metadata": {},
   "source": [
    "Let's remove missing values:"
   ]
  },
  {
   "cell_type": "code",
   "execution_count": 14,
   "metadata": {},
   "outputs": [],
   "source": [
    "df = df.dropna(subset=all_model_attributes).copy()"
   ]
  },
  {
   "attachments": {},
   "cell_type": "markdown",
   "metadata": {},
   "source": [
    "Let's fit the regression"
   ]
  },
  {
   "cell_type": "code",
   "execution_count": 15,
   "metadata": {},
   "outputs": [
    {
     "name": "stdout",
     "output_type": "stream",
     "text": [
      "REGRESSION\n",
      "----------\n",
      "SUMMARY OF OUTPUT: ORDINARY LEAST SQUARES\n",
      "-----------------------------------------\n",
      "Data set            :     unknown\n",
      "Weights matrix      :        None\n",
      "Dependent Variable  :   log_price                Number of Observations:        5760\n",
      "Mean dependent var  :      5.1955                Number of Variables   :           7\n",
      "S.D. dependent var  :      0.9457                Degrees of Freedom    :        5753\n",
      "R-squared           :      0.4038\n",
      "Adjusted R-squared  :      0.4032\n",
      "Sum squared residual:    3070.660                F-statistic           :    649.4612\n",
      "Sigma-square        :       0.534                Prob(F-statistic)     :           0\n",
      "S.E. of regression  :       0.731                Log likelihood        :   -6361.437\n",
      "Sigma-square ML     :       0.533                Akaike info criterion :   12736.874\n",
      "S.E of regression ML:      0.7301                Schwarz criterion     :   12783.484\n",
      "\n",
      "------------------------------------------------------------------------------------\n",
      "            Variable     Coefficient       Std.Error     t-Statistic     Probability\n",
      "------------------------------------------------------------------------------------\n",
      "            CONSTANT       4.0977072       0.0223776     183.1167315       0.0000000\n",
      " host_listings_count      -0.0000106       0.0001794      -0.0588430       0.9530792\n",
      "           bathrooms       0.2946558       0.0195103      15.1025814       0.0000000\n",
      "            bedrooms       0.3275372       0.0159919      20.4814485       0.0000000\n",
      "                beds       0.0245711       0.0097460       2.5211532       0.0117239\n",
      "     guests_included       0.0074460       0.0060601       1.2286886       0.2192388\n",
      "                pool       0.0891081       0.0222105       4.0119809       0.0000610\n",
      "------------------------------------------------------------------------------------\n",
      "\n",
      "REGRESSION DIAGNOSTICS\n",
      "MULTICOLLINEARITY CONDITION NUMBER            9.263\n",
      "\n",
      "TEST ON NORMALITY OF ERRORS\n",
      "TEST                             DF        VALUE           PROB\n",
      "Jarque-Bera                       2     1354608.482           0.0000\n",
      "\n",
      "DIAGNOSTICS FOR HETEROSKEDASTICITY\n",
      "RANDOM COEFFICIENTS\n",
      "TEST                             DF        VALUE           PROB\n",
      "Breusch-Pagan test                6        1420.991           0.0000\n",
      "Koenker-Bassett test              6          36.960           0.0000\n",
      "================================ END OF REPORT =====================================\n"
     ]
    }
   ],
   "source": [
    "m1 = spreg.OLS(df[['log_price']].values, df[explanatory_vars].values, name_y = 'log_price', name_x = explanatory_vars)\n",
    "print(m1.summary)"
   ]
  },
  {
   "attachments": {},
   "cell_type": "markdown",
   "metadata": {},
   "source": [
    "Results are largely unsurprising, but nonetheless reassuring. Both an extra bedroom and an extra bathroom increase the final\n",
    "price around 30%. Accounting for those, an extra bed pushes the price about 2%, while the availability of a pool increases the price by 9%."
   ]
  },
  {
   "attachments": {},
   "cell_type": "markdown",
   "metadata": {},
   "source": [
    "However, there might be non-linear relationships between the price and the number of bedrooms, bathrooms, beds, etc. We will now use Gaussian processes to model these relationships. "
   ]
  },
  {
   "attachments": {},
   "cell_type": "markdown",
   "metadata": {},
   "source": [
    "### GPyTorch: Gaussian Processes in PyTorch\n",
    "\n",
    "We will first separate our data into a training and testing set. Later, we will see how to do this more efficiently using cross-validation, and we will employ batched GP models to test each split in parallel. A couple of other things to note:\n",
    "* If your device has a GPU, you can use it to speed up the training process. To do so, you need a CUDA-enabled PyTorch installation. You can check if your device has a CUDA-enabled GPU by running `torch.cuda.is_available()`. More info here: https://pytorch.org/get-started/locally/#windows-anaconda"
   ]
  },
  {
   "cell_type": "code",
   "execution_count": 16,
   "metadata": {},
   "outputs": [],
   "source": [
    "# Separate data into training and test sets\n",
    "train = df.sample(frac=0.8, random_state=0)\n",
    "test = df.drop(train.index)"
   ]
  },
  {
   "cell_type": "code",
   "execution_count": 21,
   "metadata": {},
   "outputs": [],
   "source": [
    "# Convert the data to torch tensors\n",
    "X = torch.tensor(train[explanatory_vars].values, dtype=torch.float)\n",
    "y = torch.tensor(train[\"log_price\"].values, dtype=torch.float)\n",
    "\n",
    "# Enable CUDA (to run on GPU)\n",
    "#X = X.cuda()\n",
    "#y = y.cuda()"
   ]
  },
  {
   "attachments": {},
   "cell_type": "markdown",
   "metadata": {},
   "source": [
    "The most important aspect of any GP model is the kernel, a function that defines the covariance between two points in the input space. The covariance is a measure of how similar two points are. The kernel is a function that takes two points as input and returns the covariance between them. \n",
    "\n",
    "Here, we will use the rational quadratic kernel, which is a generalization of the squared exponential kernel. The rational quadratic kernel is defined as:\n",
    "\n",
    "$$ \\textbf{K}_{RQ}(x, x') = \\sigma^2 \\left(1 + \\frac{(x - x')^2}{2 \\alpha l^2}\\right)^{-\\alpha} $$\n",
    "\n",
    "where $\\sigma^2$ is the variance, $\\alpha$ is the shape parameter, and $l$ is the lengthscale. This kernel is equivalent to adding together many squared exponential (SE) kernels with different lengthscales. So, GP priors with this kernel expect to see functions which vary smoothly across many lengthscales. The parameter $\\alpha$ determines the relative weighting of large-scale and small-scale variations. When $\\alpha \\rightarrow \\infty$, the RQ is identical to the SE.\n",
    "\n",
    "Notice however that the above kernel is only defined for a one-dimensional vector (with $x$ and $x'$ being two separate inputs). In our case, we have a multi-dimensional input space, so we need to define a kernel that can handle this. Multiplying kernels is a standard way to fit higher-dimensional data. In our case, we will use the product of many RQ kernels, one for each dimension of the input space.\n",
    "\n",
    "$$ \\textbf{K}_{RQ-ARD}(x, x') = \\prod_{i=1}^D \\textbf{K}_{RQ}(x_i, x_i') $$\n",
    "\n",
    "where $D$ is the number of dimensions of the input space. In the literature, this is referred to as an \"automatic relevance determination\" (ARD) kernel, so named because the lengthscale of each dimension determines the relative importance of that dimension in the model (i.e., the higher the lengthscale, the more important that dimension is). You can think of it as the p-value of a predictor in a linear regression model."
   ]
  },
  {
   "cell_type": "code",
   "execution_count": 18,
   "metadata": {},
   "outputs": [],
   "source": [
    "# Define the kernel\n",
    "kernel = gpytorch.kernels.ScaleKernel(gpytorch.kernels.RQKernel(ard_num_dims=X.shape[1]))\n",
    "\n",
    "# Define the model class\n",
    "class ExactGPModel(gpytorch.models.ExactGP):\n",
    "    def __init__(self, X, y, likelihood):\n",
    "        super(ExactGPModel, self).__init__(X, y, likelihood)\n",
    "        self.mean_module = gpytorch.means.ConstantMean()\n",
    "        self.covar_module = kernel\n",
    "\n",
    "    def forward(self, X):\n",
    "        mean_x = self.mean_module(X)\n",
    "        covar_x = self.covar_module(X)\n",
    "        return gpytorch.distributions.MultivariateNormal(mean_x, covar_x)\n",
    "\n",
    "# initialize likelihood and model\n",
    "likelihood = gpytorch.likelihoods.GaussianLikelihood()\n",
    "model = ExactGPModel(X, y, likelihood)"
   ]
  },
  {
   "cell_type": "code",
   "execution_count": 20,
   "metadata": {},
   "outputs": [
    {
     "name": "stderr",
     "output_type": "stream",
     "text": [
      " 40%|████      | 81/200 [03:26<05:03,  2.55s/it, Loss=1.027, noise=0.427, lengthscale=['6.077', '5.239', '2.628', '6.469', '3.609', '6.927']]\n"
     ]
    }
   ],
   "source": [
    "ls, mll = GP.training(model, X, y)"
   ]
  },
  {
   "cell_type": "code",
   "execution_count": null,
   "metadata": {},
   "outputs": [],
   "source": []
  }
 ],
 "metadata": {
  "kernelspec": {
   "display_name": "Python 3",
   "language": "python",
   "name": "python3"
  },
  "language_info": {
   "codemirror_mode": {
    "name": "ipython",
    "version": 3
   },
   "file_extension": ".py",
   "mimetype": "text/x-python",
   "name": "python",
   "nbconvert_exporter": "python",
   "pygments_lexer": "ipython3",
   "version": "3.9.16"
  },
  "orig_nbformat": 4
 },
 "nbformat": 4,
 "nbformat_minor": 2
}
